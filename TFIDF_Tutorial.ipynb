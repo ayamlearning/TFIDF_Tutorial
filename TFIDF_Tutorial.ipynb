{
 "cells": [
  {
   "cell_type": "code",
   "execution_count": 6,
   "metadata": {},
   "outputs": [],
   "source": [
    "import nltk\n",
    "import re \n",
    "from nltk.corpus import stopwords\n",
    "from nltk.tokenize import word_tokenize,sent_tokenize\n",
    "from nltk.tokenize import RegexpTokenizer\n",
    "import math\n",
    "import distance as d\n",
    "from nltk.corpus import stopwords \n",
    "from nltk.tokenize import word_tokenize \n",
    "from nltk.tokenize import RegexpTokenizer\n",
    "import string\n",
    "import nltk\n",
    "import spacy\n",
    "import re\n",
    "import json\n",
    "from flask import jsonify"
   ]
  },
  {
   "cell_type": "code",
   "execution_count": 7,
   "metadata": {},
   "outputs": [
    {
     "name": "stdout",
     "output_type": "stream",
     "text": [
      "[nltk_data] Downloading package averaged_perceptron_tagger to\n",
      "[nltk_data]     /home/jono/nltk_data...\n",
      "[nltk_data]   Package averaged_perceptron_tagger is already up-to-\n",
      "[nltk_data]       date!\n"
     ]
    }
   ],
   "source": [
    "nltk.download('averaged_perceptron_tagger')\n",
    "stop_words = set(stopwords.words('english')) \n",
    "spacy.prefer_gpu()\n",
    "nlp = spacy.load('en_core_web_sm')"
   ]
  },
  {
   "cell_type": "code",
   "execution_count": 8,
   "metadata": {},
   "outputs": [],
   "source": [
    "text1=\"\"\"\n",
    "\"title\" : \"Remstal Gartenschau is looking for a professional with event experience\",\n",
    "    \"companyName\" : \"Building Authority Stuttgart\",\n",
    "    \"timeFrame\" : {\n",
    "       \"startDate\": \"2018-12-06T16:04:31.423Z\",\n",
    "       \"endDate\": \"2019-01-31T16:04:31.423Z\"\n",
    "    },\n",
    "    \"employment\" : {\n",
    "       \"type\" : \"part-time\",\n",
    "       \"frequency\": \"2 times per week\"\n",
    "    },\n",
    "    \"location\" :\"Stuttgart\",\n",
    "    \"language\": [\"German\"],\n",
    "    \"teamSetup\" : \"Team of 10 people working part-time\",\n",
    "    \"experience\": \"Events, Communications, Marketing\",\n",
    "    \"travelling\": \"Only within Baden-Wurttemberg\",\n",
    "    \"overview\": \"The Remstal Gartenschau is a horticultural show that takes place from 10.05. until 20.10.2019 in the state of Baden-Wurttemberg and includes 16 cities and municipalities. The goal is to promote green space in cities and its surroundings. Many different initiatives will take place throughout this time in order to enable visitors a wonderful experience.\",\n",
    "    \"responsibilities\": \"We are looking for an experienced professional (we gladly accept the support of retired professionals/senior experts) that autonomously can support all event-related preparations and also implement an organizational support system for all events happening during the event time. Your tasks include communication with all relevant stakeholders, determine the event schedule and organize all event details. A team of 9 will support you throughout the project duration.\"\n",
    "\n",
    "\"\"\""
   ]
  },
  {
   "cell_type": "code",
   "execution_count": 31,
   "metadata": {},
   "outputs": [],
   "source": [
    "#This function removes special characters from a string\n",
    "def remove_string_special_characters(s):\n",
    "    tokenizer = RegexpTokenizer(r'\\w+')\n",
    "    tokens= tokenizer.tokenize(s)\n",
    "    return preprocess(\" \".join(tokens))"
   ]
  },
  {
   "cell_type": "code",
   "execution_count": 32,
   "metadata": {},
   "outputs": [],
   "source": [
    "def preprocess(sentence):\n",
    "    sentence = sentence\n",
    "    #tokenizer = RegexpTokenizer(r'\\w+')\n",
    "    word_tokens = word_tokenize(sentence)\n",
    "    filtered_words = [w for w in word_tokens if not w in stopwords.words('english')]\n",
    "    \n",
    "    return \" \".join(filtered_words)"
   ]
  },
  {
   "cell_type": "code",
   "execution_count": 33,
   "metadata": {},
   "outputs": [],
   "source": [
    "def get_doc(sent):\n",
    "    \"\"\"this function splits the text into sentences and considering each sentence as a document, \n",
    "    calculates the total word count of each\"\"\"\n",
    "    doc_info=[]\n",
    "    i=0\n",
    "    for sent in text_sents_clean:\n",
    "        i+=1\n",
    "        count=count_words(sent)\n",
    "        temp={'doc_id':1,'doc_length':count}\n",
    "        doc_info.append(temp)\n",
    "    return doc_info"
   ]
  },
  {
   "cell_type": "code",
   "execution_count": 34,
   "metadata": {},
   "outputs": [],
   "source": [
    "def count_words(sent):\n",
    "    \"this function return the total number of words in the input text\"\n",
    "    count=0\n",
    "    words=word_tokenize(sent)\n",
    "    for word in words:\n",
    "        count+=1\n",
    "    return count"
   ]
  },
  {
   "cell_type": "code",
   "execution_count": 35,
   "metadata": {},
   "outputs": [],
   "source": [
    "def create_freq_dict(sents):\n",
    "    \"\"\"\n",
    "    This function creates a frequency dictionary for each word in each document\n",
    "    \"\"\"\n",
    "    i=0\n",
    "    freqDict_list=[]\n",
    "    for sent in sents:\n",
    "        i+=1\n",
    "        freq_dict={}\n",
    "        words=word_tokenize(sent)\n",
    "        for word in words:\n",
    "            word=word.lower()\n",
    "            if word in freq_dict:\n",
    "                freq_dict[word]+=1\n",
    "            else:\n",
    "                freq_dict[word]=1\n",
    "            temp={'doc_id':i, 'freq_dict':freq_dict}\n",
    "        freqDict_list.append(temp)\n",
    "    return freqDict_list"
   ]
  },
  {
   "cell_type": "code",
   "execution_count": 36,
   "metadata": {},
   "outputs": [],
   "source": [
    "def computeTF(doc_info,freqDict_list):\n",
    "    \"\"\"tf=(frequency of the term in the doc/total number of terms in the doc)\"\"\"\n",
    "    TF_scores=[]\n",
    "    for tempDict in freqDict_list:\n",
    "        id=tempDict['doc_id']\n",
    "        for k in tempDict['freq_dict']:\n",
    "            temp={'doc_id':id, 'TF_score':tempDict['freq_dict'][k]/doc_info[id-1]['doc_length'], 'key':k}\n",
    "            TF_scores.append(temp)\n",
    "    return TF_scores"
   ]
  },
  {
   "cell_type": "code",
   "execution_count": 37,
   "metadata": {},
   "outputs": [],
   "source": [
    "def computeIDF(doc_info,freqDict_list):\n",
    "    \"\"\"\n",
    "    idf=ln(total number of docs/number of docs with term in it)\n",
    "    \"\"\"\n",
    "    IDF_scores=[]\n",
    "    counter=0\n",
    "    for dict in freqDict_list:\n",
    "        counter+=1\n",
    "        for k in dict['freq_dict'].keys():\n",
    "            count=sum([k in tempDict['freq_dict'] for tempDict in freqDict_list])\n",
    "            temp={'doc_id':counter, 'IDF_score':math.log(len(doc_info)/count), 'key':k}\n",
    "            \n",
    "            IDF_scores.append(temp)\n",
    "    return IDF_scores"
   ]
  },
  {
   "cell_type": "code",
   "execution_count": 38,
   "metadata": {},
   "outputs": [],
   "source": [
    "def computeTFIDF(TF_scores,IDF_scores):\n",
    "    \"\"\"tf=(frequency of the term in the doc/total number of terms in the doc)\"\"\"\n",
    "    TFIDF_scores=[]\n",
    "    for j in IDF_scores:\n",
    "        for i in TF_scores:\n",
    "            if j['key']==i['key'] and j['doc_id']==i['doc_id']:\n",
    "                temp={'doc_id':j['IDF_score']*i['TF_score'],'key':i['key']}\n",
    "            TFIDF_scores.append(temp)\n",
    "    return TFIDF_scores"
   ]
  },
  {
   "cell_type": "code",
   "execution_count": 39,
   "metadata": {
    "scrolled": false
   },
   "outputs": [
    {
     "data": {
      "text/plain": [
       "['title Remstal Gartenschau looking professional event experience companyName Building Authority Stuttgart timeFrame startDate 2018 12 06T16 04 31 423Z endDate 2019 01 31T16 04 31 423Z employment type part time frequency 2 times per week location Stuttgart language German teamSetup Team 10 people working part time experience Events Communications Marketing travelling Only within Baden Wurttemberg overview The Remstal Gartenschau horticultural show takes place 10 05 20 10 2019 state Baden Wurttemberg includes 16 cities municipalities',\n",
       " 'The goal promote green space cities surroundings',\n",
       " 'Many different initiatives take place throughout time order enable visitors wonderful experience',\n",
       " 'responsibilities We looking experienced professional gladly accept support retired professionals senior experts autonomously support event related preparations also implement organizational support system events happening event time',\n",
       " 'Your tasks include communication relevant stakeholders determine event schedule organize event details',\n",
       " 'A team 9 support throughout project duration']"
      ]
     },
     "execution_count": 39,
     "metadata": {},
     "output_type": "execute_result"
    }
   ],
   "source": [
    "text_sents=sent_tokenize(text1)\n",
    "text_sents_clean=[remove_string_special_characters(s) for s in text_sents]\n",
    "text_sents_clean"
   ]
  },
  {
   "cell_type": "code",
   "execution_count": 40,
   "metadata": {},
   "outputs": [
    {
     "data": {
      "text/plain": [
       "[{'doc_id': 1, 'doc_length': 75},\n",
       " {'doc_id': 1, 'doc_length': 7},\n",
       " {'doc_id': 1, 'doc_length': 12},\n",
       " {'doc_id': 1, 'doc_length': 26},\n",
       " {'doc_id': 1, 'doc_length': 12},\n",
       " {'doc_id': 1, 'doc_length': 7}]"
      ]
     },
     "execution_count": 40,
     "metadata": {},
     "output_type": "execute_result"
    }
   ],
   "source": [
    "doc_info=get_doc(text_sents_clean)\n",
    "doc_info"
   ]
  },
  {
   "cell_type": "code",
   "execution_count": 41,
   "metadata": {},
   "outputs": [],
   "source": [
    "freqDict_list=create_freq_dict(text_sents_clean)\n",
    "TF_scores=computeTF(doc_info,freqDict_list)\n",
    "IDF_scores=computeIDF(doc_info,freqDict_list)"
   ]
  },
  {
   "cell_type": "code",
   "execution_count": 42,
   "metadata": {},
   "outputs": [
    {
     "data": {
      "text/plain": [
       "[{'doc_id': 1, 'IDF_score': 1.791759469228055, 'key': 'title'},\n",
       " {'doc_id': 1, 'IDF_score': 1.791759469228055, 'key': 'remstal'},\n",
       " {'doc_id': 1, 'IDF_score': 1.791759469228055, 'key': 'gartenschau'},\n",
       " {'doc_id': 1, 'IDF_score': 1.0986122886681098, 'key': 'looking'},\n",
       " {'doc_id': 1, 'IDF_score': 1.0986122886681098, 'key': 'professional'},\n",
       " {'doc_id': 1, 'IDF_score': 0.6931471805599453, 'key': 'event'},\n",
       " {'doc_id': 1, 'IDF_score': 1.0986122886681098, 'key': 'experience'},\n",
       " {'doc_id': 1, 'IDF_score': 1.791759469228055, 'key': 'companyname'},\n",
       " {'doc_id': 1, 'IDF_score': 1.791759469228055, 'key': 'building'},\n",
       " {'doc_id': 1, 'IDF_score': 1.791759469228055, 'key': 'authority'},\n",
       " {'doc_id': 1, 'IDF_score': 1.791759469228055, 'key': 'stuttgart'},\n",
       " {'doc_id': 1, 'IDF_score': 1.791759469228055, 'key': 'timeframe'},\n",
       " {'doc_id': 1, 'IDF_score': 1.791759469228055, 'key': 'startdate'},\n",
       " {'doc_id': 1, 'IDF_score': 1.791759469228055, 'key': '2018'},\n",
       " {'doc_id': 1, 'IDF_score': 1.791759469228055, 'key': '12'},\n",
       " {'doc_id': 1, 'IDF_score': 1.791759469228055, 'key': '06t16'},\n",
       " {'doc_id': 1, 'IDF_score': 1.791759469228055, 'key': '04'},\n",
       " {'doc_id': 1, 'IDF_score': 1.791759469228055, 'key': '31'},\n",
       " {'doc_id': 1, 'IDF_score': 1.791759469228055, 'key': '423z'},\n",
       " {'doc_id': 1, 'IDF_score': 1.791759469228055, 'key': 'enddate'},\n",
       " {'doc_id': 1, 'IDF_score': 1.791759469228055, 'key': '2019'},\n",
       " {'doc_id': 1, 'IDF_score': 1.791759469228055, 'key': '01'},\n",
       " {'doc_id': 1, 'IDF_score': 1.791759469228055, 'key': '31t16'},\n",
       " {'doc_id': 1, 'IDF_score': 1.791759469228055, 'key': 'employment'},\n",
       " {'doc_id': 1, 'IDF_score': 1.791759469228055, 'key': 'type'},\n",
       " {'doc_id': 1, 'IDF_score': 1.791759469228055, 'key': 'part'},\n",
       " {'doc_id': 1, 'IDF_score': 0.6931471805599453, 'key': 'time'},\n",
       " {'doc_id': 1, 'IDF_score': 1.791759469228055, 'key': 'frequency'},\n",
       " {'doc_id': 1, 'IDF_score': 1.791759469228055, 'key': '2'},\n",
       " {'doc_id': 1, 'IDF_score': 1.791759469228055, 'key': 'times'},\n",
       " {'doc_id': 1, 'IDF_score': 1.791759469228055, 'key': 'per'},\n",
       " {'doc_id': 1, 'IDF_score': 1.791759469228055, 'key': 'week'},\n",
       " {'doc_id': 1, 'IDF_score': 1.791759469228055, 'key': 'location'},\n",
       " {'doc_id': 1, 'IDF_score': 1.791759469228055, 'key': 'language'},\n",
       " {'doc_id': 1, 'IDF_score': 1.791759469228055, 'key': 'german'},\n",
       " {'doc_id': 1, 'IDF_score': 1.791759469228055, 'key': 'teamsetup'},\n",
       " {'doc_id': 1, 'IDF_score': 1.0986122886681098, 'key': 'team'},\n",
       " {'doc_id': 1, 'IDF_score': 1.791759469228055, 'key': '10'},\n",
       " {'doc_id': 1, 'IDF_score': 1.791759469228055, 'key': 'people'},\n",
       " {'doc_id': 1, 'IDF_score': 1.791759469228055, 'key': 'working'},\n",
       " {'doc_id': 1, 'IDF_score': 1.0986122886681098, 'key': 'events'},\n",
       " {'doc_id': 1, 'IDF_score': 1.791759469228055, 'key': 'communications'},\n",
       " {'doc_id': 1, 'IDF_score': 1.791759469228055, 'key': 'marketing'},\n",
       " {'doc_id': 1, 'IDF_score': 1.791759469228055, 'key': 'travelling'},\n",
       " {'doc_id': 1, 'IDF_score': 1.791759469228055, 'key': 'only'},\n",
       " {'doc_id': 1, 'IDF_score': 1.791759469228055, 'key': 'within'},\n",
       " {'doc_id': 1, 'IDF_score': 1.791759469228055, 'key': 'baden'},\n",
       " {'doc_id': 1, 'IDF_score': 1.791759469228055, 'key': 'wurttemberg'},\n",
       " {'doc_id': 1, 'IDF_score': 1.791759469228055, 'key': 'overview'},\n",
       " {'doc_id': 1, 'IDF_score': 1.0986122886681098, 'key': 'the'},\n",
       " {'doc_id': 1, 'IDF_score': 1.791759469228055, 'key': 'horticultural'},\n",
       " {'doc_id': 1, 'IDF_score': 1.791759469228055, 'key': 'show'},\n",
       " {'doc_id': 1, 'IDF_score': 1.791759469228055, 'key': 'takes'},\n",
       " {'doc_id': 1, 'IDF_score': 1.0986122886681098, 'key': 'place'},\n",
       " {'doc_id': 1, 'IDF_score': 1.791759469228055, 'key': '05'},\n",
       " {'doc_id': 1, 'IDF_score': 1.791759469228055, 'key': '20'},\n",
       " {'doc_id': 1, 'IDF_score': 1.791759469228055, 'key': 'state'},\n",
       " {'doc_id': 1, 'IDF_score': 1.791759469228055, 'key': 'includes'},\n",
       " {'doc_id': 1, 'IDF_score': 1.791759469228055, 'key': '16'},\n",
       " {'doc_id': 1, 'IDF_score': 1.0986122886681098, 'key': 'cities'},\n",
       " {'doc_id': 1, 'IDF_score': 1.791759469228055, 'key': 'municipalities'},\n",
       " {'doc_id': 2, 'IDF_score': 1.0986122886681098, 'key': 'the'},\n",
       " {'doc_id': 2, 'IDF_score': 1.791759469228055, 'key': 'goal'},\n",
       " {'doc_id': 2, 'IDF_score': 1.791759469228055, 'key': 'promote'},\n",
       " {'doc_id': 2, 'IDF_score': 1.791759469228055, 'key': 'green'},\n",
       " {'doc_id': 2, 'IDF_score': 1.791759469228055, 'key': 'space'},\n",
       " {'doc_id': 2, 'IDF_score': 1.0986122886681098, 'key': 'cities'},\n",
       " {'doc_id': 2, 'IDF_score': 1.791759469228055, 'key': 'surroundings'},\n",
       " {'doc_id': 3, 'IDF_score': 1.791759469228055, 'key': 'many'},\n",
       " {'doc_id': 3, 'IDF_score': 1.791759469228055, 'key': 'different'},\n",
       " {'doc_id': 3, 'IDF_score': 1.791759469228055, 'key': 'initiatives'},\n",
       " {'doc_id': 3, 'IDF_score': 1.791759469228055, 'key': 'take'},\n",
       " {'doc_id': 3, 'IDF_score': 1.0986122886681098, 'key': 'place'},\n",
       " {'doc_id': 3, 'IDF_score': 1.0986122886681098, 'key': 'throughout'},\n",
       " {'doc_id': 3, 'IDF_score': 0.6931471805599453, 'key': 'time'},\n",
       " {'doc_id': 3, 'IDF_score': 1.791759469228055, 'key': 'order'},\n",
       " {'doc_id': 3, 'IDF_score': 1.791759469228055, 'key': 'enable'},\n",
       " {'doc_id': 3, 'IDF_score': 1.791759469228055, 'key': 'visitors'},\n",
       " {'doc_id': 3, 'IDF_score': 1.791759469228055, 'key': 'wonderful'},\n",
       " {'doc_id': 3, 'IDF_score': 1.0986122886681098, 'key': 'experience'},\n",
       " {'doc_id': 4, 'IDF_score': 1.791759469228055, 'key': 'responsibilities'},\n",
       " {'doc_id': 4, 'IDF_score': 1.791759469228055, 'key': 'we'},\n",
       " {'doc_id': 4, 'IDF_score': 1.0986122886681098, 'key': 'looking'},\n",
       " {'doc_id': 4, 'IDF_score': 1.791759469228055, 'key': 'experienced'},\n",
       " {'doc_id': 4, 'IDF_score': 1.0986122886681098, 'key': 'professional'},\n",
       " {'doc_id': 4, 'IDF_score': 1.791759469228055, 'key': 'gladly'},\n",
       " {'doc_id': 4, 'IDF_score': 1.791759469228055, 'key': 'accept'},\n",
       " {'doc_id': 4, 'IDF_score': 1.0986122886681098, 'key': 'support'},\n",
       " {'doc_id': 4, 'IDF_score': 1.791759469228055, 'key': 'retired'},\n",
       " {'doc_id': 4, 'IDF_score': 1.791759469228055, 'key': 'professionals'},\n",
       " {'doc_id': 4, 'IDF_score': 1.791759469228055, 'key': 'senior'},\n",
       " {'doc_id': 4, 'IDF_score': 1.791759469228055, 'key': 'experts'},\n",
       " {'doc_id': 4, 'IDF_score': 1.791759469228055, 'key': 'autonomously'},\n",
       " {'doc_id': 4, 'IDF_score': 0.6931471805599453, 'key': 'event'},\n",
       " {'doc_id': 4, 'IDF_score': 1.791759469228055, 'key': 'related'},\n",
       " {'doc_id': 4, 'IDF_score': 1.791759469228055, 'key': 'preparations'},\n",
       " {'doc_id': 4, 'IDF_score': 1.791759469228055, 'key': 'also'},\n",
       " {'doc_id': 4, 'IDF_score': 1.791759469228055, 'key': 'implement'},\n",
       " {'doc_id': 4, 'IDF_score': 1.791759469228055, 'key': 'organizational'},\n",
       " {'doc_id': 4, 'IDF_score': 1.791759469228055, 'key': 'system'},\n",
       " {'doc_id': 4, 'IDF_score': 1.0986122886681098, 'key': 'events'},\n",
       " {'doc_id': 4, 'IDF_score': 1.791759469228055, 'key': 'happening'},\n",
       " {'doc_id': 4, 'IDF_score': 0.6931471805599453, 'key': 'time'},\n",
       " {'doc_id': 5, 'IDF_score': 1.791759469228055, 'key': 'your'},\n",
       " {'doc_id': 5, 'IDF_score': 1.791759469228055, 'key': 'tasks'},\n",
       " {'doc_id': 5, 'IDF_score': 1.791759469228055, 'key': 'include'},\n",
       " {'doc_id': 5, 'IDF_score': 1.791759469228055, 'key': 'communication'},\n",
       " {'doc_id': 5, 'IDF_score': 1.791759469228055, 'key': 'relevant'},\n",
       " {'doc_id': 5, 'IDF_score': 1.791759469228055, 'key': 'stakeholders'},\n",
       " {'doc_id': 5, 'IDF_score': 1.791759469228055, 'key': 'determine'},\n",
       " {'doc_id': 5, 'IDF_score': 0.6931471805599453, 'key': 'event'},\n",
       " {'doc_id': 5, 'IDF_score': 1.791759469228055, 'key': 'schedule'},\n",
       " {'doc_id': 5, 'IDF_score': 1.791759469228055, 'key': 'organize'},\n",
       " {'doc_id': 5, 'IDF_score': 1.791759469228055, 'key': 'details'},\n",
       " {'doc_id': 6, 'IDF_score': 1.791759469228055, 'key': 'a'},\n",
       " {'doc_id': 6, 'IDF_score': 1.0986122886681098, 'key': 'team'},\n",
       " {'doc_id': 6, 'IDF_score': 1.791759469228055, 'key': '9'},\n",
       " {'doc_id': 6, 'IDF_score': 1.0986122886681098, 'key': 'support'},\n",
       " {'doc_id': 6, 'IDF_score': 1.0986122886681098, 'key': 'throughout'},\n",
       " {'doc_id': 6, 'IDF_score': 1.791759469228055, 'key': 'project'},\n",
       " {'doc_id': 6, 'IDF_score': 1.791759469228055, 'key': 'duration'}]"
      ]
     },
     "execution_count": 42,
     "metadata": {},
     "output_type": "execute_result"
    }
   ],
   "source": [
    "IDF_scores"
   ]
  },
  {
   "cell_type": "code",
   "execution_count": null,
   "metadata": {},
   "outputs": [],
   "source": []
  }
 ],
 "metadata": {
  "kernelspec": {
   "display_name": "Python 3",
   "language": "python",
   "name": "python3"
  },
  "language_info": {
   "codemirror_mode": {
    "name": "ipython",
    "version": 3
   },
   "file_extension": ".py",
   "mimetype": "text/x-python",
   "name": "python",
   "nbconvert_exporter": "python",
   "pygments_lexer": "ipython3",
   "version": "3.6.5"
  }
 },
 "nbformat": 4,
 "nbformat_minor": 2
}
